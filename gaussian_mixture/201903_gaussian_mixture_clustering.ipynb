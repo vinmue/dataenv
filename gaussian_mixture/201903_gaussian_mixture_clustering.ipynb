{
 "cells": [
  {
   "cell_type": "code",
   "execution_count": 1,
   "metadata": {},
   "outputs": [],
   "source": [
    "import datetime as dt\n",
    "import pandas as pd\n",
    "import numpy as np\n",
    "from sklearn.mixture import GaussianMixture as GMM\n",
    "from sklearn import metrics\n",
    "import altair as alt\n",
    "alt.data_transformers.enable('json')\n",
    "#from scipy import stats\n",
    "import scipy.stats as sp\n",
    "import matplotlib.pyplot as plt\n",
    "from sklearn.preprocessing import power_transform\n",
    "\n",
    "from math import pi"
   ]
  },
  {
   "cell_type": "code",
   "execution_count": null,
   "metadata": {},
   "outputs": [],
   "source": [
    "types = {'user' : 'category', 'sport' : 'category'}"
   ]
  },
  {
   "cell_type": "code",
   "execution_count": null,
   "metadata": {},
   "outputs": [],
   "source": [
    "tours = pd.read_csv('tour-events.csv', dtype = types, parse_dates = ['timestamp'])\n",
    "tours.head()"
   ]
  },
  {
   "cell_type": "code",
   "execution_count": null,
   "metadata": {},
   "outputs": [],
   "source": [
    "len(tours.user.unique())"
   ]
  },
  {
   "cell_type": "code",
   "execution_count": null,
   "metadata": {},
   "outputs": [],
   "source": [
    "tours.info()"
   ]
  },
  {
   "cell_type": "code",
   "execution_count": null,
   "metadata": {},
   "outputs": [],
   "source": [
    "tours['date'] = pd.to_datetime(tours.timestamp.dt.date)"
   ]
  },
  {
   "cell_type": "code",
   "execution_count": null,
   "metadata": {},
   "outputs": [],
   "source": [
    "last_days = tours.groupby('user')['date'].max().reset_index()"
   ]
  },
  {
   "cell_type": "code",
   "execution_count": null,
   "metadata": {},
   "outputs": [],
   "source": [
    "sports = tours.groupby(['user', 'sport']).agg({'date' : [(lambda x : len(x.unique())), min, max]}).reset_index()"
   ]
  },
  {
   "cell_type": "code",
   "execution_count": null,
   "metadata": {},
   "outputs": [],
   "source": [
    "sports.columns = sports.columns.droplevel(0)\n",
    "sports.columns = ['user', 'sport', 'active_days', 'first_date', 'last_date']"
   ]
  },
  {
   "cell_type": "code",
   "execution_count": null,
   "metadata": {},
   "outputs": [],
   "source": [
    "sports.head()"
   ]
  },
  {
   "cell_type": "code",
   "execution_count": null,
   "metadata": {},
   "outputs": [],
   "source": [
    "sports.sport.unique()"
   ]
  },
  {
   "cell_type": "code",
   "execution_count": null,
   "metadata": {},
   "outputs": [],
   "source": [
    "sports['sports_period'] = ((sports.last_date - sports.first_date).dt.days) + 1\n",
    "\n",
    "sports['sports_frequency'] = sports.active_days / sports.sports_period"
   ]
  },
  {
   "cell_type": "code",
   "execution_count": null,
   "metadata": {},
   "outputs": [],
   "source": [
    "data = sports.pivot_table(index = ['user'], columns = 'sport', values = ['active_days', 'sports_frequency'], fill_value = 0)\n",
    "# flatten column names\n",
    "data.columns = list(map(\"_\".join, data.columns))"
   ]
  },
  {
   "cell_type": "code",
   "execution_count": null,
   "metadata": {},
   "outputs": [],
   "source": [
    "data = data.merge(last_days, on = 'user')\n",
    "data = data.rename({'date' : 'last_usage_date'}, axis='columns')\n",
    "data['days_inactive'] = (data.last_usage_date.max() - data.last_usage_date).dt.days"
   ]
  },
  {
   "cell_type": "code",
   "execution_count": 5,
   "metadata": {},
   "outputs": [],
   "source": [
    "#data.to_parquet('data.parq', compression = 'uncompressed')\n",
    "data = pd.read_parquet('data.parq')"
   ]
  },
  {
   "cell_type": "code",
   "execution_count": null,
   "metadata": {},
   "outputs": [],
   "source": [
    "plot_data = data.drop('last_usage_date', axis = 'columns').melt(id_vars = 'user')"
   ]
  },
  {
   "cell_type": "code",
   "execution_count": null,
   "metadata": {},
   "outputs": [],
   "source": [
    "plot_data.head()"
   ]
  },
  {
   "cell_type": "code",
   "execution_count": null,
   "metadata": {},
   "outputs": [],
   "source": [
    "alt.Chart(plot_data).mark_bar().encode(alt.X('value:Q', bin = alt.Bin(maxbins=500)), y = 'count():Q').facet(row = 'variable:N').resolve_scale(x = 'independent')"
   ]
  },
  {
   "cell_type": "code",
   "execution_count": null,
   "metadata": {},
   "outputs": [],
   "source": [
    "def skew_plot(data):\n",
    "    numerics = ['int16', 'int32', 'int64', 'float16', 'float32', 'float64']\n",
    "    num = data.select_dtypes(include=numerics)\n",
    "\n",
    "    # Now we create a Series with the skewness and plot in an ordered line graph.\n",
    "    skew = pd.DataFrame(sp.skew(num), num.keys())\n",
    "    # Sorting values.\n",
    "    skew=skew.sort_values(by=0, ascending=False)\n",
    "    # Setting the size.\n",
    "    plt.figure(figsize=(15,7))\n",
    "    # Plotting the skew.\n",
    "    plt.plot(skew)\n",
    "    # Rotating the features labels.\n",
    "    plt.xticks(rotation=45, fontsize=8)\n",
    "    # Adding labels.\n",
    "    plt.xlabel('Numerical Features', fontsize=10)\n",
    "    plt.ylabel('Skew', fontsize=10)\n",
    "    # Adding limit lines.\n",
    "    plt.axhline(y=1, c='red')\n",
    "    plt.axhline(y=-1, c='red', )\n",
    "    plt.show()"
   ]
  },
  {
   "cell_type": "markdown",
   "metadata": {},
   "source": [
    "most dimensions are zero-inflated"
   ]
  },
  {
   "cell_type": "markdown",
   "metadata": {},
   "source": [
    "## Clustering"
   ]
  },
  {
   "cell_type": "code",
   "execution_count": 6,
   "metadata": {},
   "outputs": [],
   "source": [
    "input = data.drop(['user', 'last_usage_date'], axis = 'columns')"
   ]
  },
  {
   "cell_type": "code",
   "execution_count": null,
   "metadata": {},
   "outputs": [],
   "source": [
    "input.describe()"
   ]
  },
  {
   "cell_type": "code",
   "execution_count": null,
   "metadata": {},
   "outputs": [],
   "source": [
    "input.hist(bins=25, color='steelblue', edgecolor='black', linewidth=1.0,\n",
    "           xlabelsize=8, ylabelsize=8, grid=False, figsize = (20, 10), sharex = False)\n",
    "#plt.tight_layout(rect=(0, 0, 1.2, 1.2)) "
   ]
  },
  {
   "cell_type": "code",
   "execution_count": null,
   "metadata": {},
   "outputs": [],
   "source": [
    "skew_plot(input)"
   ]
  },
  {
   "cell_type": "markdown",
   "metadata": {},
   "source": [
    "raw input"
   ]
  },
  {
   "cell_type": "code",
   "execution_count": null,
   "metadata": {},
   "outputs": [],
   "source": [
    "cov = ['spherical', 'tied', 'diag', 'full']\n",
    "n = np.arange(3, 16)\n",
    "\n",
    "models = [GMM(n, covariance_type = c, random_state=0).fit(input)\n",
    "          for n in n for c in cov]"
   ]
  },
  {
   "cell_type": "code",
   "execution_count": null,
   "metadata": {},
   "outputs": [],
   "source": [
    "aic = [s.aic(input) for s in models]\n",
    "bic = [s.bic(input) for s in models]\n"
   ]
  },
  {
   "cell_type": "code",
   "execution_count": null,
   "metadata": {},
   "outputs": [],
   "source": [
    "# Latent Dirichlet allocation for high dimensions\n",
    "# scaling : needed only when using priors\n",
    "shil_scores = list()\n",
    "\n",
    "\n",
    "for m in models:\n",
    "    l = m.predict(input)\n",
    "    s = metrics.silhouette_score(input, l, metric='euclidean')\n",
    "    shil_scores.append(s)"
   ]
  },
  {
   "cell_type": "code",
   "execution_count": null,
   "metadata": {},
   "outputs": [],
   "source": [
    "results = pd.DataFrame({'model' : models, 'aic' : aic, 'bic' : bic, 'shil_score' : shil_scores})"
   ]
  },
  {
   "cell_type": "code",
   "execution_count": null,
   "metadata": {},
   "outputs": [],
   "source": [
    "# best\n",
    "results.model[13]#.head()"
   ]
  },
  {
   "cell_type": "code",
   "execution_count": null,
   "metadata": {},
   "outputs": [],
   "source": [
    "results.loc[13]"
   ]
  },
  {
   "cell_type": "code",
   "execution_count": null,
   "metadata": {},
   "outputs": [],
   "source": [
    "input_sq = np.sqrt(input)"
   ]
  },
  {
   "cell_type": "code",
   "execution_count": null,
   "metadata": {},
   "outputs": [],
   "source": [
    "input_sq.hist(bins=25, color='steelblue', edgecolor='black', linewidth=1.0,\n",
    "           xlabelsize=8, ylabelsize=8, grid=False, figsize = (20, 10), sharex = False)"
   ]
  },
  {
   "cell_type": "code",
   "execution_count": null,
   "metadata": {},
   "outputs": [],
   "source": [
    "skew_plot(input_sq)"
   ]
  },
  {
   "cell_type": "code",
   "execution_count": null,
   "metadata": {},
   "outputs": [],
   "source": [
    "cov = ['spherical', 'tied', 'diag', 'full']\n",
    "n = np.arange(3, 16)\n",
    "\n",
    "models = [GMM(n, covariance_type = c, random_state=0).fit(input_sq)\n",
    "          for n in n for c in cov]"
   ]
  },
  {
   "cell_type": "code",
   "execution_count": null,
   "metadata": {},
   "outputs": [],
   "source": [
    "aic = [s.aic(input_sq) for s in models]\n",
    "bic = [s.bic(input_sq) for s in models]\n",
    "\n",
    "shil_scores = list()\n",
    "\n",
    "for m in models:\n",
    "    l = m.predict(input_sq)\n",
    "    s = metrics.silhouette_score(input_sq, l, metric='euclidean')\n",
    "    shil_scores.append(s)"
   ]
  },
  {
   "cell_type": "code",
   "execution_count": null,
   "metadata": {},
   "outputs": [],
   "source": [
    "results_sq = pd.DataFrame({'model' : models, 'aic' : aic, 'bic' : bic, 'shil_score' : shil_scores})"
   ]
  },
  {
   "cell_type": "code",
   "execution_count": null,
   "metadata": {},
   "outputs": [],
   "source": [
    "results_sq\n",
    "# no good"
   ]
  },
  {
   "cell_type": "markdown",
   "metadata": {},
   "source": [
    "### scaled variables"
   ]
  },
  {
   "cell_type": "code",
   "execution_count": 7,
   "metadata": {},
   "outputs": [],
   "source": [
    "input_sc = input.apply(lambda x : (x - np.mean(x)) / np.std(x), axis = 'columns')"
   ]
  },
  {
   "cell_type": "code",
   "execution_count": 8,
   "metadata": {},
   "outputs": [
    {
     "data": {
      "text/plain": [
       "array([[<matplotlib.axes._subplots.AxesSubplot object at 0x7fde4c78a1d0>,\n",
       "        <matplotlib.axes._subplots.AxesSubplot object at 0x7fde59d015c0>,\n",
       "        <matplotlib.axes._subplots.AxesSubplot object at 0x7fde57de8f60>,\n",
       "        <matplotlib.axes._subplots.AxesSubplot object at 0x7fde57c6ebe0>,\n",
       "        <matplotlib.axes._subplots.AxesSubplot object at 0x7fde57c956d8>,\n",
       "        <matplotlib.axes._subplots.AxesSubplot object at 0x7fde56fe3c18>,\n",
       "        <matplotlib.axes._subplots.AxesSubplot object at 0x7fde57bd8e10>],\n",
       "       [<matplotlib.axes._subplots.AxesSubplot object at 0x7fde57cb7e48>,\n",
       "        <matplotlib.axes._subplots.AxesSubplot object at 0x7fde57cb7e10>,\n",
       "        <matplotlib.axes._subplots.AxesSubplot object at 0x7fde57e07390>,\n",
       "        <matplotlib.axes._subplots.AxesSubplot object at 0x7fde57bd2668>,\n",
       "        <matplotlib.axes._subplots.AxesSubplot object at 0x7fde57d9ecc0>,\n",
       "        <matplotlib.axes._subplots.AxesSubplot object at 0x7fde57ce5278>,\n",
       "        <matplotlib.axes._subplots.AxesSubplot object at 0x7fde57b8f7f0>],\n",
       "       [<matplotlib.axes._subplots.AxesSubplot object at 0x7fde57b6ed68>,\n",
       "        <matplotlib.axes._subplots.AxesSubplot object at 0x7fde4c7b6320>,\n",
       "        <matplotlib.axes._subplots.AxesSubplot object at 0x7fde4c017898>,\n",
       "        <matplotlib.axes._subplots.AxesSubplot object at 0x7fde4c03ee10>,\n",
       "        <matplotlib.axes._subplots.AxesSubplot object at 0x7fde4ef013c8>,\n",
       "        <matplotlib.axes._subplots.AxesSubplot object at 0x7fde4f9eb940>,\n",
       "        <matplotlib.axes._subplots.AxesSubplot object at 0x7fde4d2ffeb8>],\n",
       "       [<matplotlib.axes._subplots.AxesSubplot object at 0x7fde4d2c7470>,\n",
       "        <matplotlib.axes._subplots.AxesSubplot object at 0x7fde4e2729e8>,\n",
       "        <matplotlib.axes._subplots.AxesSubplot object at 0x7fde543f6f60>,\n",
       "        <matplotlib.axes._subplots.AxesSubplot object at 0x7fde543bf518>,\n",
       "        <matplotlib.axes._subplots.AxesSubplot object at 0x7fde5772ba90>,\n",
       "        <matplotlib.axes._subplots.AxesSubplot object at 0x7fde5732b048>,\n",
       "        <matplotlib.axes._subplots.AxesSubplot object at 0x7fde573515c0>],\n",
       "       [<matplotlib.axes._subplots.AxesSubplot object at 0x7fde559f1b38>,\n",
       "        <matplotlib.axes._subplots.AxesSubplot object at 0x7fde559a20f0>,\n",
       "        <matplotlib.axes._subplots.AxesSubplot object at 0x7fde559c9668>,\n",
       "        <matplotlib.axes._subplots.AxesSubplot object at 0x7fde55970be0>,\n",
       "        <matplotlib.axes._subplots.AxesSubplot object at 0x7fde55924198>,\n",
       "        <matplotlib.axes._subplots.AxesSubplot object at 0x7fde5594a710>,\n",
       "        <matplotlib.axes._subplots.AxesSubplot object at 0x7fde558f1c88>],\n",
       "       [<matplotlib.axes._subplots.AxesSubplot object at 0x7fde558a3240>,\n",
       "        <matplotlib.axes._subplots.AxesSubplot object at 0x7fde558ca7b8>,\n",
       "        <matplotlib.axes._subplots.AxesSubplot object at 0x7fde55871d30>,\n",
       "        <matplotlib.axes._subplots.AxesSubplot object at 0x7fde558212e8>,\n",
       "        <matplotlib.axes._subplots.AxesSubplot object at 0x7fde5584a860>,\n",
       "        <matplotlib.axes._subplots.AxesSubplot object at 0x7fde557f3dd8>,\n",
       "        <matplotlib.axes._subplots.AxesSubplot object at 0x7fde557a3390>],\n",
       "       [<matplotlib.axes._subplots.AxesSubplot object at 0x7fde557cc908>,\n",
       "        <matplotlib.axes._subplots.AxesSubplot object at 0x7fde55775e80>,\n",
       "        <matplotlib.axes._subplots.AxesSubplot object at 0x7fde55724438>,\n",
       "        <matplotlib.axes._subplots.AxesSubplot object at 0x7fde5574b9b0>,\n",
       "        <matplotlib.axes._subplots.AxesSubplot object at 0x7fde556f4f28>,\n",
       "        <matplotlib.axes._subplots.AxesSubplot object at 0x7fde556a54e0>,\n",
       "        <matplotlib.axes._subplots.AxesSubplot object at 0x7fde556cca58>]],\n",
       "      dtype=object)"
      ]
     },
     "execution_count": 8,
     "metadata": {},
     "output_type": "execute_result"
    },
    {
     "data": {
      "image/png": "[encoded data removed]",
      "text/plain": [
       "<Figure size 1440x720 with 49 Axes>"
      ]
     },
     "metadata": {
      "needs_background": "light"
     },
     "output_type": "display_data"
    }
   ],
   "source": [
    "input_sc.hist(bins=25, color='steelblue', edgecolor='black', linewidth=1.0,\n",
    "           xlabelsize=8, ylabelsize=8, grid=False, figsize = (20, 10), sharex = False)"
   ]
  },
  {
   "cell_type": "code",
   "execution_count": null,
   "metadata": {},
   "outputs": [],
   "source": [
    "skew_plot(input_sc)"
   ]
  },
  {
   "cell_type": "code",
   "execution_count": 9,
   "metadata": {},
   "outputs": [],
   "source": [
    "cov = ['spherical', 'tied', 'diag', 'full']\n",
    "n = np.arange(3, 16)\n",
    "\n",
    "models = [GMM(n, covariance_type = c, random_state=0, max_iter = 1000).fit(input_sc)\n",
    "          for n in n for c in cov]"
   ]
  },
  {
   "cell_type": "code",
   "execution_count": null,
   "metadata": {},
   "outputs": [],
   "source": [
    "aic = [s.aic(input_sc) for s in models]\n",
    "bic = [s.bic(input_sc) for s in models]\n",
    "\n",
    "shil_scores = list()\n",
    "\n",
    "for m in models:\n",
    "    l = m.predict(input_sc)\n",
    "    s = metrics.silhouette_score(input_sc, l, metric='euclidean')\n",
    "    shil_scores.append(s)"
   ]
  },
  {
   "cell_type": "code",
   "execution_count": null,
   "metadata": {},
   "outputs": [],
   "source": [
    "results_sc = pd.DataFrame({'model' : models, 'aic' : aic, 'bic' : bic, 'shil_score' : shil_scores})"
   ]
  },
  {
   "cell_type": "code",
   "execution_count": null,
   "metadata": {},
   "outputs": [],
   "source": [
    "results_sc.model[25]"
   ]
  },
  {
   "cell_type": "code",
   "execution_count": null,
   "metadata": {},
   "outputs": [],
   "source": [
    "results_sc.loc[25]\n",
    "gmm = results_sc.loc[25, 'model']\n",
    "labels_sc = gmm.predict(input_sc)\n",
    "data['label_sc'] = gmm.predict(input)"
   ]
  },
  {
   "cell_type": "code",
   "execution_count": null,
   "metadata": {},
   "outputs": [],
   "source": [
    "data.columns"
   ]
  },
  {
   "cell_type": "code",
   "execution_count": null,
   "metadata": {},
   "outputs": [],
   "source": [
    "categories = labels_sc.tolist()\n",
    "N = len(categories)\n",
    "\n",
    "angles = [n / float(N) * 2 * pi for n in range(N)]\n",
    "angles += angles[:1]\n",
    "\n",
    "ax = plt.subplot(111, polar=True)\n",
    " \n",
    "# If you want the first axis to be on top:\n",
    "ax.set_theta_offset(pi / 2)\n",
    "ax.set_theta_direction(-1)\n",
    "\n",
    "plt.xticks(angles[:-1], categories)\n",
    " \n",
    "# Draw ylabels\n",
    "ax.set_rlabel_position(0)\n",
    "plt.yticks([10,20,30], [\"10\",\"20\",\"30\"], color=\"grey\", size=7)\n",
    "plt.ylim(0,40)\n",
    "\n",
    "# ------- PART 2: Add plots\n",
    " \n",
    "# Plot each individual = each line of the data\n",
    "# I don't do a loop, because plotting more than 3 groups makes the chart unreadable\n",
    " \n",
    "# Ind1\n",
    "values=input.loc[0].values.flatten().tolist()\n",
    "values += values[:1]\n",
    "ax.plot(angles, values, linewidth=1, linestyle='solid', label=\"group A\")\n",
    "ax.fill(angles, values, 'b', alpha=0.1)\n",
    " \n",
    "# Ind2\n",
    "values=input.loc[1].values.flatten().tolist()\n",
    "values += values[:1]\n",
    "ax.plot(angles, values, linewidth=1, linestyle='solid', label=\"group B\")\n",
    "ax.fill(angles, values, 'r', alpha=0.1)\n",
    " \n",
    "# Add legend\n",
    "plt.legend(loc='upper right', bbox_to_anchor=(0.1, 0.1))"
   ]
  },
  {
   "cell_type": "code",
   "execution_count": null,
   "metadata": {},
   "outputs": [],
   "source": [
    "input.loc[0]"
   ]
  },
  {
   "cell_type": "code",
   "execution_count": 3,
   "metadata": {},
   "outputs": [
    {
     "data": {
      "text/plain": [
       "<matplotlib.legend.Legend at 0x7fde5ce80080>"
      ]
     },
     "execution_count": 3,
     "metadata": {},
     "output_type": "execute_result"
    },
    {
     "data": {
      "image/png": "[encoded data removed]",
      "text/plain": [
       "<Figure size 432x288 with 1 Axes>"
      ]
     },
     "metadata": {},
     "output_type": "display_data"
    }
   ],
   "source": [
    "df = pd.DataFrame({\n",
    "'group': ['A','B','C','D'],\n",
    "'var1': [38, 1.5, 30, 4],\n",
    "'var2': [29, 10, 9, 34],\n",
    "'var3': [8, 39, 23, 24],\n",
    "'var4': [7, 31, 33, 14],\n",
    "'var5': [28, 15, 32, 14]\n",
    "})\n",
    " \n",
    " \n",
    " \n",
    "# ------- PART 1: Create background\n",
    " \n",
    "# number of variable\n",
    "categories=list(df)[1:]\n",
    "N = len(categories)\n",
    " \n",
    "# What will be the angle of each axis in the plot? (we divide the plot / number of variable)\n",
    "angles = [n / float(N) * 2 * pi for n in range(N)]\n",
    "angles += angles[:1]\n",
    " \n",
    "# Initialise the spider plot\n",
    "ax = plt.subplot(111, polar=True)\n",
    " \n",
    "# If you want the first axis to be on top:\n",
    "ax.set_theta_offset(pi / 2)\n",
    "ax.set_theta_direction(-1)\n",
    " \n",
    "# Draw one axe per variable + add labels labels yet\n",
    "plt.xticks(angles[:-1], categories)\n",
    " \n",
    "# Draw ylabels\n",
    "ax.set_rlabel_position(0)\n",
    "plt.yticks([10,20,30], [\"10\",\"20\",\"30\"], color=\"grey\", size=7)\n",
    "plt.ylim(0,40)\n",
    " \n",
    " \n",
    "# ------- PART 2: Add plots\n",
    " \n",
    "# Plot each individual = each line of the data\n",
    "# I don't do a loop, because plotting more than 3 groups makes the chart unreadable\n",
    " \n",
    "# Ind1\n",
    "values=df.loc[0].drop('group').values.flatten().tolist()\n",
    "values += values[:1]\n",
    "ax.plot(angles, values, linewidth=1, linestyle='solid', label=\"group A\")\n",
    "ax.fill(angles, values, 'b', alpha=0.1)\n",
    " \n",
    "# Ind2\n",
    "values=df.loc[1].drop('group').values.flatten().tolist()\n",
    "values += values[:1]\n",
    "ax.plot(angles, values, linewidth=1, linestyle='solid', label=\"group B\")\n",
    "ax.fill(angles, values, 'r', alpha=0.1)\n",
    " \n",
    "# Add legend\n",
    "plt.legend(loc='upper right', bbox_to_anchor=(0.1, 0.1))"
   ]
  },
  {
   "cell_type": "code",
   "execution_count": null,
   "metadata": {},
   "outputs": [],
   "source": [
    "from scipy.special import boxcox1p\n",
    "input_bc = boxcox1p(input, 1.25)"
   ]
  },
  {
   "cell_type": "code",
   "execution_count": null,
   "metadata": {},
   "outputs": [],
   "source": [
    "skew_plot(input_bc)"
   ]
  },
  {
   "cell_type": "code",
   "execution_count": null,
   "metadata": {},
   "outputs": [],
   "source": [
    "cov = ['spherical', 'tied', 'diag', 'full']\n",
    "n = np.arange(3, 16)\n",
    "\n",
    "models = [GMM(n, covariance_type = c, random_state=0).fit(input_bc)\n",
    "          for n in n for c in cov]"
   ]
  },
  {
   "cell_type": "code",
   "execution_count": null,
   "metadata": {},
   "outputs": [],
   "source": [
    "aic = [s.aic(input_bc) for s in models]\n",
    "bic = [s.bic(input_bc) for s in models]\n",
    "\n",
    "shil_scores = list()\n",
    "\n",
    "for m in models:\n",
    "    l = m.predict(input_bc)\n",
    "    s = metrics.silhouette_score(input_bc, l, metric='euclidean')\n",
    "    shil_scores.append(s)"
   ]
  },
  {
   "cell_type": "code",
   "execution_count": null,
   "metadata": {},
   "outputs": [],
   "source": [
    "results_bc = pd.DataFrame({'model' : models, 'aic' : aic, 'bic' : bic, 'shil_score' : shil_scores})"
   ]
  },
  {
   "cell_type": "code",
   "execution_count": null,
   "metadata": {},
   "outputs": [],
   "source": [
    "results_bc\n",
    "# none are good"
   ]
  },
  {
   "cell_type": "code",
   "execution_count": null,
   "metadata": {},
   "outputs": [],
   "source": [
    "input_yj = pd.DataFrame(power_transform(input, method = 'yeo-johnson'))"
   ]
  },
  {
   "cell_type": "code",
   "execution_count": null,
   "metadata": {},
   "outputs": [],
   "source": [
    "input_yj.hist(bins=25, color='steelblue', edgecolor='black', linewidth=1.0,\n",
    "           xlabelsize=8, ylabelsize=8, grid=False, figsize = (20, 10), sharex = False)"
   ]
  },
  {
   "cell_type": "code",
   "execution_count": null,
   "metadata": {},
   "outputs": [],
   "source": [
    "cov = ['spherical', 'tied', 'diag', 'full']\n",
    "n = np.arange(3, 16)\n",
    "\n",
    "models = [GMM(n, covariance_type = c, random_state=0).fit(input_yj)\n",
    "          for n in n for c in cov]"
   ]
  },
  {
   "cell_type": "code",
   "execution_count": null,
   "metadata": {},
   "outputs": [],
   "source": [
    "aic = [s.aic(input_yj) for s in models]\n",
    "bic = [s.bic(input_yj) for s in models]\n",
    "\n",
    "shil_scores = list()\n",
    "\n",
    "for m in models:\n",
    "    l = m.predict(input_yj)\n",
    "    s = metrics.silhouette_score(input_yj, l, metric='euclidean')\n",
    "    shil_scores.append(s)"
   ]
  },
  {
   "cell_type": "code",
   "execution_count": null,
   "metadata": {},
   "outputs": [],
   "source": [
    "results_yj = pd.DataFrame({'model' : models, 'aic' : aic, 'bic' : bic, 'shil_score' : shil_scores})"
   ]
  },
  {
   "cell_type": "code",
   "execution_count": null,
   "metadata": {},
   "outputs": [],
   "source": [
    "results_yj\n",
    "# no good"
   ]
  }
 ],
 "metadata": {
  "kernelspec": {
   "display_name": "Python 3",
   "language": "python",
   "name": "python3"
  },
  "language_info": {
   "codemirror_mode": {
    "name": "ipython",
    "version": 3
   },
   "file_extension": ".py",
   "mimetype": "text/x-python",
   "name": "python",
   "nbconvert_exporter": "python",
   "pygments_lexer": "ipython3",
   "version": "3.7.2"
  }
 },
 "nbformat": 4,
 "nbformat_minor": 2
}
